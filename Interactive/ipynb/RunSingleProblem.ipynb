{
 "cells": [
  {
   "cell_type": "code",
   "execution_count": 1,
   "source": [
    "import os\n",
    "import sys\n",
    "sys.path.append(\"./src/PyplantFEMClass/plantFEM\")\n",
    "from src.PyplantFEMClass.plantFEM import plantFEM"
   ],
   "outputs": [
    {
     "output_type": "stream",
     "name": "stdout",
     "text": [
      "-------------------\n",
      "Imported at \n",
      "2019-09-23 16:16:11.316313\n",
      "-------------------\n",
      "Detecting OS type...\n",
      "OS : Linux\n",
      "Now installing...\n",
      "Successfully Installed!!\n"
     ]
    }
   ],
   "metadata": {}
  },
  {
   "cell_type": "code",
   "execution_count": 2,
   "source": [
    "world=plantFEM()\n",
    "world.solver.importDomains(\"Tutorial/InputData/Domainlist.txt\")\n",
    "world.solver.importInterfaces(\"Tutorial/InputData/Ifacelist.txt\")"
   ],
   "outputs": [
    {
     "output_type": "stream",
     "name": "stdout",
     "text": [
      "DomainList : Tutorial/InputData/Domainlist.txt\n",
      "\n",
      "IfaceList : Tutorial/InputData/Ifacelist.txt\n",
      "\n"
     ]
    }
   ],
   "metadata": {}
  },
  {
   "cell_type": "code",
   "execution_count": null,
   "source": [
    "world.solver.setSimulationTime(1.0)\n",
    "world.solver.setTimeStep(100)\n",
    "world.solver.run()"
   ],
   "outputs": [
    {
     "output_type": "stream",
     "name": "stdout",
     "text": [
      "SimulationTime : 1.0sec\n",
      "\n",
      "TimeStep : 100 steps\n",
      "\n",
      "LinearSolverType : BiCGSTAB\n",
      "\n",
      "Successfully exported : log_solver.f90\n",
      "Now Running Simulation...\n"
     ]
    }
   ],
   "metadata": {}
  },
  {
   "cell_type": "code",
   "execution_count": null,
   "source": [],
   "outputs": [],
   "metadata": {}
  },
  {
   "cell_type": "code",
   "execution_count": null,
   "source": [],
   "outputs": [],
   "metadata": {}
  },
  {
   "cell_type": "code",
   "execution_count": null,
   "source": [],
   "outputs": [],
   "metadata": {}
  }
 ],
 "metadata": {
  "kernelspec": {
   "display_name": "Python 3",
   "language": "python",
   "name": "python3"
  },
  "language_info": {
   "codemirror_mode": {
    "name": "ipython",
    "version": 3
   },
   "file_extension": ".py",
   "mimetype": "text/x-python",
   "name": "python",
   "nbconvert_exporter": "python",
   "pygments_lexer": "ipython3",
   "version": "3.6.8"
  }
 },
 "nbformat": 4,
 "nbformat_minor": 2
}