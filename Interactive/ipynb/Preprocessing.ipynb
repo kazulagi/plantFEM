{
 "cells": [
  {
   "cell_type": "code",
   "execution_count": 1,
   "source": [
    "import os\n",
    "import sys\n",
    "sys.path.append(\"./src/PyplantFEMClass/plantFEM\")\n",
    "from src.PyplantFEMClass.plantFEM import plantFEM"
   ],
   "outputs": [
    {
     "output_type": "stream",
     "name": "stdout",
     "text": [
      "-------------------\n",
      "Imported at \n",
      "2019-09-23 00:49:25.881429\n",
      "-------------------\n",
      "Detecting OS type...\n",
      "OS : Linux\n",
      "Now installing...\n",
      "Successfully Installed!!\n"
     ]
    }
   ],
   "metadata": {}
  },
  {
   "cell_type": "code",
   "execution_count": 2,
   "source": [
    "world=plantFEM()"
   ],
   "outputs": [],
   "metadata": {}
  },
  {
   "cell_type": "code",
   "execution_count": 3,
   "source": [
    "\n",
    "world.prepro.setNumOfCore(1)\n",
    "# please change \"debug/scandata/case1GM.png\" to your file path\n",
    "world.prepro.addObject(\"Tutorial/LeafImageData/grass_traced.png\")\n",
    "\n",
    "# please change \"(28,255,255)\" to your RGB value (R,G,B)\n",
    "world.prepro.setRGBColor(0,128,0)\n",
    "world.prepro.setSolver(SolverName=\"DiffusionEq_\")\n",
    "world.prepro.set3DDivision(division=4)\n",
    "world.prepro.setThickness(Thickness=0.25)\n",
    "world.prepro.setMatPara(MaterialID=1,MatParaParameterID=1,MatParaVal=0.001)\n",
    "world.prepro.setMatID(MatID=1)\n",
    "world.prepro.setDBC(DBCvalid=1,DBCVal=10.0,Ymin=-25.0,Ymax=-.0)\n",
    "world.prepro.setDBC(DBCvalid=1,DBCVal=40.0,Ymax=-100.0) \n",
    "world.prepro.setScaleXYZ(X=7.10,Y=113.35)\n",
    "world.prepro.exportDomainAsScf(FileName=\"Tutorial/InputData/test\")\n",
    "world.prepro.exportFortranScript()\n",
    "\n",
    "# For Windows (WSL) please remove # of the next line.\n",
    "#world.prepro.run(option=\"onlyMesh\")\n",
    "# after \"onlyMseh\", please download .geo file and create .mesh in desktop under \"recombinant all triangle\" mode.\n",
    "\n",
    "\n",
    "# For Other OS, please remove # of the next line.\n",
    "#world.prepro.run()"
   ],
   "outputs": [
    {
     "output_type": "stream",
     "name": "stdout",
     "text": [
      "NumOfCore : 1\n",
      "ObjectID : 0 ObjectFilePath : Tutorial/LeafImageData/grass_traced.png\n",
      "Now, total number of objects is : 1\n",
      "Successfully exported : log_prepro_1.f90\n",
      "Successfully exported : log_prepro_2.f90\n",
      "OS : Linux\n",
      "Successfully exported : log_prepro_1.f90\n",
      "Successfully exported : log_prepro_2.f90\n",
      "Running preprocessing...\n",
      "Successfully done!\n"
     ]
    }
   ],
   "metadata": {}
  },
  {
   "cell_type": "code",
   "execution_count": 4,
   "source": [
    "# For Windows (WSL) \n",
    "# Please upload the .mesh file created in desktop and remove # of the next line.\n",
    "#world.prepro.run(option=\"withoutMesh\")\n",
    "\n",
    "#For other OS, please ignore this part."
   ],
   "outputs": [
    {
     "output_type": "stream",
     "name": "stdout",
     "text": [
      "OS : Linux\n",
      "Successfully exported : log_prepro_1.f90\n",
      "Successfully exported : log_prepro_2.f90\n",
      "Running preprocessing...\n",
      "Successfully done!\n"
     ]
    }
   ],
   "metadata": {}
  },
  {
   "cell_type": "code",
   "execution_count": null,
   "source": [],
   "outputs": [],
   "metadata": {}
  }
 ],
 "metadata": {
  "kernelspec": {
   "display_name": "Python 3",
   "language": "python",
   "name": "python3"
  },
  "language_info": {
   "codemirror_mode": {
    "name": "ipython",
    "version": 3
   },
   "file_extension": ".py",
   "mimetype": "text/x-python",
   "name": "python",
   "nbconvert_exporter": "python",
   "pygments_lexer": "ipython3",
   "version": "3.6.8"
  }
 },
 "nbformat": 4,
 "nbformat_minor": 2
}